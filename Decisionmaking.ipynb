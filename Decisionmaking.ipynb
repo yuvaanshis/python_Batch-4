{
 "cells": [
  {
   "cell_type": "code",
   "execution_count": 1,
   "metadata": {},
   "outputs": [
    {
     "ename": "SyntaxError",
     "evalue": "invalid syntax (<ipython-input-1-e1a27eb5d3f7>, line 3)",
     "output_type": "error",
     "traceback": [
      "\u001b[1;36m  File \u001b[1;32m\"<ipython-input-1-e1a27eb5d3f7>\"\u001b[1;36m, line \u001b[1;32m3\u001b[0m\n\u001b[1;33m    How can we print string in reverse order\u001b[0m\n\u001b[1;37m          ^\u001b[0m\n\u001b[1;31mSyntaxError\u001b[0m\u001b[1;31m:\u001b[0m invalid syntax\n"
     ]
    }
   ],
   "source": [
    "# intervidw\n",
    "\n",
    "How can we print string in reverse order\n",
    "does white space in string has any index value\n",
    "index type-> positive --> 0\n",
    "negative --> -1\n",
    "x = string/sentence 0-> you need to split to different words/strings\n",
    "\n"
   ]
  },
  {
   "cell_type": "code",
   "execution_count": null,
   "metadata": {},
   "outputs": [],
   "source": [
    "# how can you write a string in reverse order\n",
    "\n",
    "x='python'[::-1]\n",
    "print(x)\n"
   ]
  },
  {
   "cell_type": "code",
   "execution_count": 2,
   "metadata": {},
   "outputs": [
    {
     "data": {
      "text/plain": [
       "['This', 'is', 'a', 'Python', 'Class']"
      ]
     },
     "execution_count": 2,
     "metadata": {},
     "output_type": "execute_result"
    }
   ],
   "source": [
    "x= 'This is a Python Class'\n",
    "x.split()"
   ]
  },
  {
   "cell_type": "code",
   "execution_count": 3,
   "metadata": {},
   "outputs": [],
   "source": [
    "y = 'python Devleopment Class'\n",
    "\n",
    "# i wanted to slice only Development from the string\n",
    "\n",
    "# i wanted print the sliced string in reverse order\n"
   ]
  },
  {
   "cell_type": "code",
   "execution_count": 4,
   "metadata": {},
   "outputs": [
    {
     "ename": "SyntaxError",
     "evalue": "invalid character in identifier (<ipython-input-4-e6d366224c62>, line 3)",
     "output_type": "error",
     "traceback": [
      "\u001b[1;36m  File \u001b[1;32m\"<ipython-input-4-e6d366224c62>\"\u001b[1;36m, line \u001b[1;32m3\u001b[0m\n\u001b[1;33m    Set is an unordered collection of unique items. Set is defined by values separated by comma inside braces { }.\u001b[0m\n\u001b[1;37m         ^\u001b[0m\n\u001b[1;31mSyntaxError\u001b[0m\u001b[1;31m:\u001b[0m invalid character in identifier\n"
     ]
    }
   ],
   "source": [
    "# introdcution to sets:\n",
    "\n",
    "Set is an unordered collection of unique items. Set is defined by values separated by comma inside braces { }.\n",
    "Items in a set are not ordered. \n",
    "\n",
    "Set is a Mutable Data type and has no duplicates\n"
   ]
  },
  {
   "cell_type": "code",
   "execution_count": 15,
   "metadata": {},
   "outputs": [],
   "source": [
    "set={100,0,10,200,\"Python\"}"
   ]
  },
  {
   "cell_type": "code",
   "execution_count": 16,
   "metadata": {},
   "outputs": [
    {
     "name": "stdout",
     "output_type": "stream",
     "text": [
      "{0, 100, 200, 'Python', 10}\n"
     ]
    }
   ],
   "source": [
    "print(set)"
   ]
  },
  {
   "cell_type": "code",
   "execution_count": 17,
   "metadata": {},
   "outputs": [
    {
     "data": {
      "text/plain": [
       "set"
      ]
     },
     "execution_count": 17,
     "metadata": {},
     "output_type": "execute_result"
    }
   ],
   "source": [
    "type(set)"
   ]
  },
  {
   "cell_type": "code",
   "execution_count": 19,
   "metadata": {},
   "outputs": [
    {
     "name": "stdout",
     "output_type": "stream",
     "text": [
      "{0, 100, 200, 10, 60}\n"
     ]
    }
   ],
   "source": [
    "set.add(60)  # insertion is allowed \n",
    "print(s)"
   ]
  },
  {
   "cell_type": "code",
   "execution_count": 20,
   "metadata": {},
   "outputs": [
    {
     "ename": "TypeError",
     "evalue": "'set' object is not subscriptable",
     "output_type": "error",
     "traceback": [
      "\u001b[1;31m---------------------------------------------------------------------------\u001b[0m",
      "\u001b[1;31mTypeError\u001b[0m                                 Traceback (most recent call last)",
      "\u001b[1;32m<ipython-input-20-fda84b08dff9>\u001b[0m in \u001b[0;36m<module>\u001b[1;34m\u001b[0m\n\u001b[0;32m      1\u001b[0m \u001b[1;31m# indexing is not allowed\u001b[0m\u001b[1;33m\u001b[0m\u001b[1;33m\u001b[0m\u001b[1;33m\u001b[0m\u001b[0m\n\u001b[0;32m      2\u001b[0m \u001b[1;33m\u001b[0m\u001b[0m\n\u001b[1;32m----> 3\u001b[1;33m \u001b[0mset\u001b[0m\u001b[1;33m[\u001b[0m\u001b[1;36m1\u001b[0m\u001b[1;33m]\u001b[0m\u001b[1;33m\u001b[0m\u001b[1;33m\u001b[0m\u001b[0m\n\u001b[0m",
      "\u001b[1;31mTypeError\u001b[0m: 'set' object is not subscriptable"
     ]
    }
   ],
   "source": [
    "# indexing is not allowed\n",
    "\n",
    "set[1]"
   ]
  },
  {
   "cell_type": "code",
   "execution_count": 26,
   "metadata": {},
   "outputs": [
    {
     "name": "stdout",
     "output_type": "stream",
     "text": [
      "set= {0, 100, 200, 'Python', 60}\n"
     ]
    }
   ],
   "source": [
    "print('set=',set)"
   ]
  },
  {
   "cell_type": "code",
   "execution_count": 27,
   "metadata": {},
   "outputs": [
    {
     "ename": "KeyError",
     "evalue": "10",
     "output_type": "error",
     "traceback": [
      "\u001b[1;31m---------------------------------------------------------------------------\u001b[0m",
      "\u001b[1;31mKeyError\u001b[0m                                  Traceback (most recent call last)",
      "\u001b[1;32m<ipython-input-27-a0e0a09460bf>\u001b[0m in \u001b[0;36m<module>\u001b[1;34m\u001b[0m\n\u001b[1;32m----> 1\u001b[1;33m \u001b[0mset\u001b[0m\u001b[1;33m.\u001b[0m\u001b[0mremove\u001b[0m\u001b[1;33m(\u001b[0m\u001b[1;36m10\u001b[0m\u001b[1;33m)\u001b[0m\u001b[1;33m\u001b[0m\u001b[1;33m\u001b[0m\u001b[0m\n\u001b[0m",
      "\u001b[1;31mKeyError\u001b[0m: 10"
     ]
    }
   ],
   "source": [
    "set.remove(10)\n"
   ]
  },
  {
   "cell_type": "code",
   "execution_count": 24,
   "metadata": {},
   "outputs": [
    {
     "name": "stdout",
     "output_type": "stream",
     "text": [
      "{0, 100, 200, 'Python', 60}\n"
     ]
    }
   ],
   "source": [
    "print(set)"
   ]
  },
  {
   "cell_type": "code",
   "execution_count": 28,
   "metadata": {},
   "outputs": [
    {
     "ename": "KeyError",
     "evalue": "'python'",
     "output_type": "error",
     "traceback": [
      "\u001b[1;31m---------------------------------------------------------------------------\u001b[0m",
      "\u001b[1;31mKeyError\u001b[0m                                  Traceback (most recent call last)",
      "\u001b[1;32m<ipython-input-28-ef65625c9978>\u001b[0m in \u001b[0;36m<module>\u001b[1;34m\u001b[0m\n\u001b[1;32m----> 1\u001b[1;33m \u001b[0mset\u001b[0m\u001b[1;33m.\u001b[0m\u001b[0mremove\u001b[0m\u001b[1;33m(\u001b[0m\u001b[1;34m\"python\"\u001b[0m\u001b[1;33m)\u001b[0m\u001b[1;33m\u001b[0m\u001b[1;33m\u001b[0m\u001b[0m\n\u001b[0m",
      "\u001b[1;31mKeyError\u001b[0m: 'python'"
     ]
    }
   ],
   "source": [
    "set.remove(\"python\")"
   ]
  },
  {
   "cell_type": "code",
   "execution_count": 29,
   "metadata": {},
   "outputs": [
    {
     "name": "stdout",
     "output_type": "stream",
     "text": [
      "{0, 100, 200, 'Python', 60}\n"
     ]
    }
   ],
   "source": [
    "print(set)"
   ]
  },
  {
   "cell_type": "code",
   "execution_count": 14,
   "metadata": {},
   "outputs": [
    {
     "ename": "KeyError",
     "evalue": "'Python'",
     "output_type": "error",
     "traceback": [
      "\u001b[1;31m---------------------------------------------------------------------------\u001b[0m",
      "\u001b[1;31mKeyError\u001b[0m                                  Traceback (most recent call last)",
      "\u001b[1;32m<ipython-input-14-66609dcdb761>\u001b[0m in \u001b[0;36m<module>\u001b[1;34m\u001b[0m\n\u001b[1;32m----> 1\u001b[1;33m \u001b[0ms\u001b[0m\u001b[1;33m.\u001b[0m\u001b[0mremove\u001b[0m\u001b[1;33m(\u001b[0m\u001b[1;34m\"Python\"\u001b[0m\u001b[1;33m)\u001b[0m\u001b[1;33m\u001b[0m\u001b[1;33m\u001b[0m\u001b[0m\n\u001b[0m\u001b[0;32m      2\u001b[0m \u001b[0mprint\u001b[0m\u001b[1;33m(\u001b[0m\u001b[0mS\u001b[0m\u001b[1;33m)\u001b[0m\u001b[1;33m\u001b[0m\u001b[1;33m\u001b[0m\u001b[0m\n",
      "\u001b[1;31mKeyError\u001b[0m: 'Python'"
     ]
    }
   ],
   "source": [
    "\n",
    "s.remove(\"Python\")\n",
    "print(S)\n"
   ]
  },
  {
   "cell_type": "code",
   "execution_count": 10,
   "metadata": {},
   "outputs": [
    {
     "name": "stdout",
     "output_type": "stream",
     "text": [
      "{'banana', 1, 'apple', 'cherry'}\n",
      "{1, 'apple', 'cherry'}\n"
     ]
    }
   ],
   "source": [
    "thisset = {\"apple\", \"banana\", \"cherry\",1}\n",
    "\n",
    "print(thisset)\n",
    "\n",
    "thisset.remove(\"banana\")\n",
    "\n",
    "print(thisset)"
   ]
  },
  {
   "cell_type": "code",
   "execution_count": null,
   "metadata": {},
   "outputs": [],
   "source": [
    "# frozen set --> immutable\n",
    "\n",
    "Bytes\n",
    "bytes array-->"
   ]
  },
  {
   "cell_type": "code",
   "execution_count": 28,
   "metadata": {},
   "outputs": [],
   "source": [
    "s={10,200,20,0,90}\n",
    "\n",
    "fs=frozenset(s)"
   ]
  },
  {
   "cell_type": "code",
   "execution_count": 29,
   "metadata": {},
   "outputs": [
    {
     "data": {
      "text/plain": [
       "set"
      ]
     },
     "execution_count": 29,
     "metadata": {},
     "output_type": "execute_result"
    }
   ],
   "source": [
    "type(s)"
   ]
  },
  {
   "cell_type": "code",
   "execution_count": null,
   "metadata": {},
   "outputs": [],
   "source": []
  },
  {
   "cell_type": "code",
   "execution_count": null,
   "metadata": {},
   "outputs": [],
   "source": []
  },
  {
   "cell_type": "code",
   "execution_count": 26,
   "metadata": {},
   "outputs": [
    {
     "data": {
      "text/plain": [
       "frozenset"
      ]
     },
     "execution_count": 26,
     "metadata": {},
     "output_type": "execute_result"
    }
   ],
   "source": [
    "type(fs)"
   ]
  },
  {
   "cell_type": "code",
   "execution_count": 31,
   "metadata": {},
   "outputs": [
    {
     "ename": "AttributeError",
     "evalue": "'frozenset' object has no attribute 'remove'",
     "output_type": "error",
     "traceback": [
      "\u001b[1;31m---------------------------------------------------------------------------\u001b[0m",
      "\u001b[1;31mAttributeError\u001b[0m                            Traceback (most recent call last)",
      "\u001b[1;32m<ipython-input-31-6b9aeb7c96e7>\u001b[0m in \u001b[0;36m<module>\u001b[1;34m\u001b[0m\n\u001b[1;32m----> 1\u001b[1;33m \u001b[0mfs\u001b[0m\u001b[1;33m.\u001b[0m\u001b[0mremove\u001b[0m\u001b[1;33m(\u001b[0m\u001b[1;36m90\u001b[0m\u001b[1;33m)\u001b[0m\u001b[1;33m\u001b[0m\u001b[1;33m\u001b[0m\u001b[0m\n\u001b[0m",
      "\u001b[1;31mAttributeError\u001b[0m: 'frozenset' object has no attribute 'remove'"
     ]
    }
   ],
   "source": [
    "fs.remove(90)"
   ]
  },
  {
   "cell_type": "code",
   "execution_count": null,
   "metadata": {},
   "outputs": [],
   "source": [
    "numeric data type: int,float\n",
    "    txt --> string\n",
    "    bytes--> ytes, byte array\n",
    "    sets --> set and frozen set\n",
    "    \n",
    "    \n",
    "    "
   ]
  },
  {
   "cell_type": "code",
   "execution_count": null,
   "metadata": {},
   "outputs": [],
   "source": [
    "# sequence datatypes:\n",
    "\n",
    "control flow in python"
   ]
  },
  {
   "cell_type": "code",
   "execution_count": null,
   "metadata": {},
   "outputs": [],
   "source": [
    "# introduction to Decision making\n",
    "\n",
    "if --> if statemnt will execute only if the condition is true\n",
    "\n",
    "\n",
    "syntax:  if condtion:\n",
    "        statemnet\n",
    "        \n",
    "        \n",
    "syntax -2: if condition:\n",
    "        statemnt-1\n",
    "        stament-3\n",
    "        "
   ]
  },
  {
   "cell_type": "code",
   "execution_count": null,
   "metadata": {},
   "outputs": [],
   "source": [
    "input and statemnt \n",
    "\n",
    "input staemnts--> input()\n",
    "output ()"
   ]
  },
  {
   "cell_type": "code",
   "execution_count": 35,
   "metadata": {},
   "outputs": [
    {
     "name": "stdout",
     "output_type": "stream",
     "text": [
      "Enter name:python\n",
      "Hello Python! How are you?\n",
      "How are this Day?\n"
     ]
    }
   ],
   "source": [
    "name = input(\"Enter name:\")\n",
    "\n",
    "if name =='python':\n",
    "    print(\"Hello Python! How are you?\")\n",
    "    print('How are this Day?')\n"
   ]
  },
  {
   "cell_type": "code",
   "execution_count": 33,
   "metadata": {},
   "outputs": [
    {
     "name": "stdout",
     "output_type": "stream",
     "text": [
      "Enter name:python\n",
      "Hello Python! How are you?\n"
     ]
    }
   ],
   "source": [
    "name = input(\"Enter name:\")\n",
    "\n",
    "if name =='python':\n",
    "    print(\"Hello Python! How are you?\")"
   ]
  },
  {
   "cell_type": "code",
   "execution_count": 34,
   "metadata": {},
   "outputs": [
    {
     "name": "stdout",
     "output_type": "stream",
     "text": [
      "Enter name:PYTHON\n"
     ]
    }
   ],
   "source": [
    "name = input(\"Enter name:\")\n",
    "\n",
    "if name =='python':\n",
    "    print(\"Hello Python! How are you?\")"
   ]
  },
  {
   "cell_type": "code",
   "execution_count": null,
   "metadata": {},
   "outputs": [],
   "source": [
    "# if -else --> \n",
    "\n",
    "if block --> true --> output\n",
    "else block --> false --> output\n",
    "\n",
    "\n",
    "syntax:\n",
    "    if condition:\n",
    "        statemnt -1\n",
    "    else:\n",
    "        stament-2"
   ]
  },
  {
   "cell_type": "code",
   "execution_count": 39,
   "metadata": {},
   "outputs": [
    {
     "name": "stdout",
     "output_type": "stream",
     "text": [
      "Enter name:Java\n",
      "Hello Guest welcome to our session\n"
     ]
    }
   ],
   "source": [
    "name = input(\"Enter name:\")\n",
    "\n",
    "if name =='python':\n",
    "    print(\"Hello Python! How are you?\")\n",
    "    \n",
    "else:\n",
    "    print('Hello Guest welcome to our session')"
   ]
  },
  {
   "cell_type": "code",
   "execution_count": 38,
   "metadata": {},
   "outputs": [
    {
     "name": "stdout",
     "output_type": "stream",
     "text": [
      "Enter name:python\n",
      "Hello Python! How are you?\n",
      "How are this Day?\n"
     ]
    }
   ],
   "source": [
    "name = input(\"Enter name:\")\n",
    "\n",
    "if name =='python':\n",
    "    print(\"Hello Python! How are you?\")\n",
    "    print('How are this Day?')\n",
    "    \n",
    "    \n",
    "else:\n",
    "    print('Hello Guest welcome to our session')\n",
    "    print('How are this Day?')"
   ]
  },
  {
   "cell_type": "code",
   "execution_count": 40,
   "metadata": {},
   "outputs": [
    {
     "name": "stdout",
     "output_type": "stream",
     "text": [
      "Enter name:Java\n",
      "Hello Guest welcome to our session\n",
      "How are this Day?\n"
     ]
    }
   ],
   "source": [
    "name = input(\"Enter name:\")\n",
    "\n",
    "if name =='python':\n",
    "    print(\"Hello Python! How are you?\")\n",
    "    print('How are this Day?')\n",
    "    \n",
    "    \n",
    "else:\n",
    "    print('Hello Guest welcome to our session')\n",
    "    print('How are this Day?')"
   ]
  },
  {
   "cell_type": "code",
   "execution_count": null,
   "metadata": {},
   "outputs": [],
   "source": [
    "# nested if-else/ if-elif-else\n",
    "\n",
    "syntax:\n",
    "    \n",
    "    if condition:\n",
    "        s-1\n",
    "    elif condition-2:\n",
    "        s-2\n",
    "    elif conditon-3\n",
    "    s-3\n",
    "    |\n",
    "    |\n",
    "    |\n",
    "    else:\n",
    "        Default action\n",
    "        "
   ]
  },
  {
   "cell_type": "code",
   "execution_count": 41,
   "metadata": {},
   "outputs": [
    {
     "name": "stdout",
     "output_type": "stream",
     "text": [
      "Enter your favourite brandApple\n",
      "This is a Ipbone\n"
     ]
    }
   ],
   "source": [
    "brand=input('Enter your favourite brand')\n",
    "if brand == 'Apple':\n",
    "    print('This is a Ipbone')\n",
    "    \n",
    "elif brand == 'Samsung':\n",
    "    print('This is an Android Pbone')\n",
    "    \n",
    "elif brand=='Nokia':\n",
    "    print('This is a Widows Phone')\n",
    "    \n",
    "else:\n",
    "    print('sorry this phone is not mentioned in code')\n"
   ]
  },
  {
   "cell_type": "code",
   "execution_count": 42,
   "metadata": {},
   "outputs": [
    {
     "name": "stdout",
     "output_type": "stream",
     "text": [
      "Enter your favourite brandRealme\n",
      "sorry this phone is not mentioned in code\n"
     ]
    }
   ],
   "source": [
    "brand=input('Enter your favourite brand')\n",
    "if brand == 'Apple':\n",
    "    print('This is a Ipbone')\n",
    "    \n",
    "elif brand == 'Samsung':\n",
    "    print('This is an Android Pbone')\n",
    "    \n",
    "elif brand=='Nokia':\n",
    "    print('This is a Widows Phone')\n",
    "    \n",
    "else:\n",
    "    print('sorry this phone is not mentioned in code')\n"
   ]
  },
  {
   "cell_type": "code",
   "execution_count": 43,
   "metadata": {},
   "outputs": [
    {
     "name": "stdout",
     "output_type": "stream",
     "text": [
      "Enter your favourite brandNokia\n",
      "This is a Widows Phone\n"
     ]
    }
   ],
   "source": [
    "brand=input('Enter your favourite brand')\n",
    "if brand == 'Apple':\n",
    "    print('This is a Ipbone')\n",
    "    \n",
    "elif brand == 'Samsung':\n",
    "    print('This is an Android Pbone')\n",
    "    \n",
    "elif brand=='Nokia':\n",
    "    print('This is a Widows Phone')\n",
    "    \n",
    "else:\n",
    "    print('sorry this phone is not mentioned in code')\n"
   ]
  },
  {
   "cell_type": "code",
   "execution_count": null,
   "metadata": {},
   "outputs": [],
   "source": [
    "2 numbers as input --> it has print the biggest number "
   ]
  },
  {
   "cell_type": "code",
   "execution_count": 45,
   "metadata": {},
   "outputs": [
    {
     "name": "stdout",
     "output_type": "stream",
     "text": [
      "Enter the first number:200\n",
      "Enter the second number:30\n",
      "Biggest number is: 200\n"
     ]
    }
   ],
   "source": [
    "n1=int(input('Enter the first number:'))\n",
    "n2=int(input('Enter the second number:'))\n",
    "\n",
    "if n1>n2:\n",
    "    print('Biggest number is:',n1)\n",
    "    \n",
    "else:\n",
    "    print('Biggest number is:',n2)\n"
   ]
  },
  {
   "cell_type": "code",
   "execution_count": null,
   "metadata": {},
   "outputs": [],
   "source": [
    "# 5 number as input --> biggest and samlest number among the numbers\n",
    "\n",
    "# input as number --> check weaather number is b/w 10-100"
   ]
  },
  {
   "cell_type": "code",
   "execution_count": null,
   "metadata": {},
   "outputs": [],
   "source": [
    "yuvaanshiscarlett@gmail.com\n",
    "\n",
    "\n",
    "\n",
    "\n"
   ]
  },
  {
   "cell_type": "code",
   "execution_count": null,
   "metadata": {},
   "outputs": [],
   "source": []
  },
  {
   "cell_type": "code",
   "execution_count": null,
   "metadata": {},
   "outputs": [],
   "source": []
  }
 ],
 "metadata": {
  "kernelspec": {
   "display_name": "Python 3",
   "language": "python",
   "name": "python3"
  },
  "language_info": {
   "codemirror_mode": {
    "name": "ipython",
    "version": 3
   },
   "file_extension": ".py",
   "mimetype": "text/x-python",
   "name": "python",
   "nbconvert_exporter": "python",
   "pygments_lexer": "ipython3",
   "version": "3.7.6"
  }
 },
 "nbformat": 4,
 "nbformat_minor": 4
}
