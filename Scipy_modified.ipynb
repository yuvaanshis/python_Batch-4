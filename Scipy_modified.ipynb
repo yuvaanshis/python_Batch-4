{
 "cells": [
  {
   "cell_type": "markdown",
   "metadata": {},
   "source": [
    "# Introduction to Scipy\n",
    "Scipy is known as scitific python which is built on Numpy wich allows the manipulation and viualising.\n",
    "if you import scipy then there is no need of numpy\n",
    "\n",
    "\n"
   ]
  },
  {
   "cell_type": "code",
   "execution_count": null,
   "metadata": {},
   "outputs": [],
   "source": [
    "# Numpy V/s Scipy"
   ]
  },
  {
   "cell_type": "code",
   "execution_count": null,
   "metadata": {},
   "outputs": [],
   "source": []
  },
  {
   "cell_type": "code",
   "execution_count": null,
   "metadata": {},
   "outputs": [],
   "source": []
  },
  {
   "cell_type": "code",
   "execution_count": null,
   "metadata": {},
   "outputs": [],
   "source": [
    "import scipy\n"
   ]
  },
  {
   "cell_type": "code",
   "execution_count": null,
   "metadata": {},
   "outputs": [],
   "source": [
    "from scipy import cluster"
   ]
  },
  {
   "cell_type": "code",
   "execution_count": null,
   "metadata": {},
   "outputs": [],
   "source": [
    "help(cluster)"
   ]
  },
  {
   "cell_type": "code",
   "execution_count": null,
   "metadata": {},
   "outputs": [],
   "source": [
    "help()"
   ]
  },
  {
   "cell_type": "code",
   "execution_count": null,
   "metadata": {},
   "outputs": [],
   "source": [
    "import scipy\n",
    "scipy.info(cluster)"
   ]
  },
  {
   "cell_type": "code",
   "execution_count": null,
   "metadata": {},
   "outputs": [],
   "source": [
    "import numpy as np\n",
    "np.info(cluster)"
   ]
  },
  {
   "cell_type": "code",
   "execution_count": null,
   "metadata": {},
   "outputs": [],
   "source": [
    "scipy.source(cluster)"
   ]
  },
  {
   "cell_type": "code",
   "execution_count": null,
   "metadata": {},
   "outputs": [],
   "source": [
    "np.source(cluster)"
   ]
  },
  {
   "cell_type": "markdown",
   "metadata": {},
   "source": [
    "# special Functions:\n",
    "\n",
    "Functions are avaible for Mathematical Physics\n",
    "some of this functions include gamma, beta , parabolic cyluder etc\n",
    "\n",
    "exponentional functions\n",
    "trignometric functions"
   ]
  },
  {
   "cell_type": "code",
   "execution_count": null,
   "metadata": {},
   "outputs": [],
   "source": [
    "from scipy import special\n",
    "\n",
    "a=special.exp10(2)\n",
    "print(a)"
   ]
  },
  {
   "cell_type": "code",
   "execution_count": null,
   "metadata": {},
   "outputs": [],
   "source": [
    "b=special.exp2(3)\n",
    "print(b)"
   ]
  },
  {
   "cell_type": "markdown",
   "metadata": {},
   "source": [
    "# Trignometirc functions"
   ]
  },
  {
   "cell_type": "code",
   "execution_count": null,
   "metadata": {},
   "outputs": [],
   "source": [
    "\n",
    "\n",
    "c=special.sindg(90)\n",
    "print(c)"
   ]
  },
  {
   "cell_type": "code",
   "execution_count": null,
   "metadata": {},
   "outputs": [],
   "source": [
    "d=special.cosdg(90)\n",
    "print(c)"
   ]
  },
  {
   "cell_type": "markdown",
   "metadata": {},
   "source": [
    "# integration Functions\n",
    "\n",
    "integration Deals with adding slices to determine the whole. integration can be used to find the dicplacement , area etc\n",
    "\n",
    "                General integration  --> quad function caluculates the integral of function has one variable\n",
    "                Double Integration  --> dblquad function caluculates the double integral has 2 varaible"
   ]
  },
  {
   "cell_type": "code",
   "execution_count": null,
   "metadata": {},
   "outputs": [],
   "source": [
    "from scipy import integrate"
   ]
  },
  {
   "cell_type": "code",
   "execution_count": null,
   "metadata": {},
   "outputs": [],
   "source": [
    "help(integrate.quad) "
   ]
  },
  {
   "cell_type": "code",
   "execution_count": null,
   "metadata": {},
   "outputs": [],
   "source": [
    "# for general the limits ay vary from + and - infinte\n",
    "\n",
    "i=scipy.integrate.quad(lambda x:special.exp10(x),0,1)\n",
    "# 0,1 are upper and lower limits, x is the parameter\n",
    "print(i)"
   ]
  },
  {
   "cell_type": "code",
   "execution_count": null,
   "metadata": {},
   "outputs": [],
   "source": [
    "# double integral will take 2 real variables will take \n",
    "e=lambda x,y:x*y**2  \n",
    "f=lambda x:1\n",
    "g=lambda x: -1\n",
    "integrate.dblquad(e,0,2,f,g)  # 0,2 are upper and lowe limits "
   ]
  },
  {
   "cell_type": "markdown",
   "metadata": {},
   "source": [
    "# Fourier Transformations"
   ]
  },
  {
   "cell_type": "raw",
   "metadata": {},
   "source": [
    "Fourier Transformations  --> It is a method that deals with Expressiong a function as a sum of periodic components \n",
    "and recovering the signal from those\n",
    "to caluculate--> fft and ifft functions which returns Discreate fourier trnsform of real or complex sequence\n",
    "\n"
   ]
  },
  {
   "cell_type": "code",
   "execution_count": null,
   "metadata": {},
   "outputs": [],
   "source": [
    "from scipy.fftpack import fft,ifft\n",
    "import numpy as np\n",
    "x=np.array([1,2,3,4])\n",
    "y=fft(x)\n",
    "print(y)"
   ]
  },
  {
   "cell_type": "code",
   "execution_count": null,
   "metadata": {},
   "outputs": [],
   "source": [
    "#to know the inverse we can use ifft\n",
    "z=ifft(x)\n",
    "print(z)"
   ]
  },
  {
   "cell_type": "markdown",
   "metadata": {},
   "source": [
    "# Linear Algebra: \n",
    "It deals with linear equation and reprsentation using vector spaces and matrices\n",
    "scipy has inbuilt ATLAS LAPACK and BLAS libraries and is extremely fast in solving problems related to linear algebra\n",
    "\n",
    "these are extremely fast in solving the probles related to linear algebra\n",
    "scipy provides some advanced functions compare to numpy and it is faster than numpy\n"
   ]
  },
  {
   "cell_type": "code",
   "execution_count": null,
   "metadata": {},
   "outputs": [],
   "source": [
    "from scipy import linalg\n",
    "a=np.array([[1,2],[3,4]])\n",
    "b=linalg.inv(a) # inverse of a\n",
    "print(b)"
   ]
  },
  {
   "cell_type": "markdown",
   "metadata": {},
   "source": [
    "# interpolation functions:\n",
    "    constructs new datapoints within set of known datapoints . the scipy.interpolate consists of spline functions and classes,one-dimensional and multi-dimensional(unvariate and multivariate) interpolation classes"
   ]
  },
  {
   "cell_type": "raw",
   "metadata": {},
   "source": [
    "univeriate is basically a area of curvefitting which find the curve a that provides an exact fit fit to the series of two  dimensional variables"
   ]
  },
  {
   "cell_type": "code",
   "execution_count": null,
   "metadata": {},
   "outputs": [],
   "source": [
    "import matplotlib.pyplot as plt\n",
    "from scipy import interpolate\n",
    "x=np.arange(5,20)\n",
    "y=np.exp(x/3.0)\n",
    "f=interpolate.interp1d(x,y)\n",
    "x1=np.arange(6,12)\n",
    "y1=f(x1) # use interpolation function return by interpld\n",
    "plt.plot(x,y,'o',x1,y1,'--')\n",
    "plt.show()\n",
    "\n",
    "# from the below plot x,y1 has been computed by x and y"
   ]
  },
  {
   "cell_type": "code",
   "execution_count": null,
   "metadata": {},
   "outputs": [],
   "source": [
    "from scipy import misc\n",
    "from matplotlib import pyplot as plt\n",
    "import numpy as np\n",
    "#get face image of panda from misc package\n",
    "panda = misc.face()\n",
    "#plot or show image of face\n",
    "plt.imshow( panda )\n",
    "plt.show()"
   ]
  },
  {
   "cell_type": "code",
   "execution_count": null,
   "metadata": {},
   "outputs": [],
   "source": [
    "#rotatation function of scipy for image – image rotated 135 degree\n",
    "from scipy import ndimage\n",
    "panda_rotate = ndimage.rotate(panda, 135)\n",
    "plt.imshow(panda_rotate)\n",
    "plt.show()"
   ]
  },
  {
   "cell_type": "code",
   "execution_count": null,
   "metadata": {},
   "outputs": [],
   "source": [
    "f = misc.face(gray=True)  # retrieve a grayscale image\n",
    "import matplotlib.pyplot as plt\n",
    "plt.imshow(f, cmap=plt.cm.gray)  "
   ]
  },
  {
   "cell_type": "code",
   "execution_count": null,
   "metadata": {},
   "outputs": [],
   "source": [
    "plt.imshow(f, cmap=plt.cm.gray, vmin=30, vmax=200)        \n",
    "\n",
    "# Remove axes and ticks\n",
    "plt.axis('off')\n"
   ]
  },
  {
   "cell_type": "code",
   "execution_count": null,
   "metadata": {},
   "outputs": [],
   "source": [
    "plt.contour(f, [50, 150])"
   ]
  },
  {
   "cell_type": "code",
   "execution_count": null,
   "metadata": {},
   "outputs": [],
   "source": [
    "\n"
   ]
  },
  {
   "cell_type": "code",
   "execution_count": null,
   "metadata": {},
   "outputs": [],
   "source": []
  }
 ],
 "metadata": {
  "kernelspec": {
   "display_name": "Python 3",
   "language": "python",
   "name": "python3"
  },
  "language_info": {
   "codemirror_mode": {
    "name": "ipython",
    "version": 3
   },
   "file_extension": ".py",
   "mimetype": "text/x-python",
   "name": "python",
   "nbconvert_exporter": "python",
   "pygments_lexer": "ipython3",
   "version": "3.7.6"
  }
 },
 "nbformat": 4,
 "nbformat_minor": 4
}
